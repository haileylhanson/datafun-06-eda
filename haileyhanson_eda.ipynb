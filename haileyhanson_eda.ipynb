{
 "cells": [
  {
   "cell_type": "markdown",
   "id": "c5a76145",
   "metadata": {},
   "source": [
    "# ((Title)) hailey hanson, September 2025, purpose: etc etc "
   ]
  },
  {
   "cell_type": "code",
   "execution_count": 1,
   "id": "85e36709",
   "metadata": {},
   "outputs": [],
   "source": [
    "import matplotlib.pyplot as plt\n",
    "import pandas as pd\n",
    "import seaborn as sns"
   ]
  }
 ],
 "metadata": {
  "kernelspec": {
   "display_name": ".venv",
   "language": "python",
   "name": "python3"
  },
  "language_info": {
   "codemirror_mode": {
    "name": "ipython",
    "version": 3
   },
   "file_extension": ".py",
   "mimetype": "text/x-python",
   "name": "python",
   "nbconvert_exporter": "python",
   "pygments_lexer": "ipython3",
   "version": "3.13.7"
  }
 },
 "nbformat": 4,
 "nbformat_minor": 5
}
