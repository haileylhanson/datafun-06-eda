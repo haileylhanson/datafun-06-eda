{
 "cells": [
  {
   "cell_type": "markdown",
   "id": "c5a76145",
   "metadata": {},
   "source": [
    "# ((Title)) hailey hanson, September 2025, purpose: etc etc "
   ]
  },
  {
   "cell_type": "code",
   "execution_count": 5,
   "id": "85e36709",
   "metadata": {},
   "outputs": [],
   "source": [
    "import matplotlib.pyplot as plt\n",
    "import pandas as pd\n",
    "import seaborn as sns"
   ]
  },
  {
   "cell_type": "code",
   "execution_count": null,
   "id": "71af9a01",
   "metadata": {},
   "outputs": [
    {
     "name": "stdout",
     "output_type": "stream",
     "text": [
      "   hour_of_day cash_type  money    coffee_name Time_of_Day Weekday Month_name  \\\n",
      "0           10      card   38.7          Latte     Morning     Fri        Mar   \n",
      "1           12      card   38.7  Hot Chocolate   Afternoon     Fri        Mar   \n",
      "2           12      card   38.7  Hot Chocolate   Afternoon     Fri        Mar   \n",
      "3           13      card   28.9      Americano   Afternoon     Fri        Mar   \n",
      "4           13      card   38.7          Latte   Afternoon     Fri        Mar   \n",
      "\n",
      "   Weekdaysort  Monthsort        Date     Time  \n",
      "0            5          3  01/03/2024  15:50.5  \n",
      "1            5          3  01/03/2024  19:22.5  \n",
      "2            5          3  01/03/2024  20:18.1  \n",
      "3            5          3  01/03/2024  46:33.0  \n",
      "4            5          3  01/03/2024  48:14.6  \n"
     ]
    }
   ],
   "source": [
    "# Load the Coffee dataset into pandas DataFrame\n",
    "filepath = 'coffee.csv'\n",
    "coffee_df = pd.read_csv(filepath)\n",
    "\n",
    "# List column names\n",
    "#print(coffee_df.columns)\n",
    "\n",
    "# Inspect first few rows of the DataFrame\n",
    "print(coffee_df.head())\n"
   ]
  },
  {
   "cell_type": "code",
   "execution_count": 18,
   "id": "b26f99e9",
   "metadata": {},
   "outputs": [
    {
     "name": "stdout",
     "output_type": "stream",
     "text": [
      "   hour_of_day cash_type  money          coffee_name Time_of_Day Weekday  \\\n",
      "0           10      card   38.7                Latte     Morning     Fri   \n",
      "1           12      card   38.7        Hot Chocolate   Afternoon     Fri   \n",
      "2           12      card   38.7        Hot Chocolate   Afternoon     Fri   \n",
      "3           13      card   28.9            Americano   Afternoon     Fri   \n",
      "4           13      card   38.7                Latte   Afternoon     Fri   \n",
      "5           15      card   33.8  Americano with Milk   Afternoon     Fri   \n",
      "6           16      card   38.7        Hot Chocolate   Afternoon     Fri   \n",
      "7           18      card   33.8  Americano with Milk       Night     Fri   \n",
      "8           19      card   38.7                Cocoa       Night     Fri   \n",
      "9           19      card   33.8  Americano with Milk       Night     Fri   \n",
      "\n",
      "  Month_name  Weekdaysort  Monthsort        Date     Time  \n",
      "0        Mar            5          3  01/03/2024  15:50.5  \n",
      "1        Mar            5          3  01/03/2024  19:22.5  \n",
      "2        Mar            5          3  01/03/2024  20:18.1  \n",
      "3        Mar            5          3  01/03/2024  46:33.0  \n",
      "4        Mar            5          3  01/03/2024  48:14.6  \n",
      "5        Mar            5          3  01/03/2024  39:47.7  \n",
      "6        Mar            5          3  01/03/2024  19:02.8  \n",
      "7        Mar            5          3  01/03/2024  39:03.6  \n",
      "8        Mar            5          3  01/03/2024  22:01.8  \n",
      "9        Mar            5          3  01/03/2024  23:15.9  \n",
      "\n",
      "coffee df.shape:\n",
      "(3547, 11)\n",
      "\n",
      " coffee df.dtypes:\n",
      "hour_of_day      int64\n",
      "cash_type       object\n",
      "money          float64\n",
      "coffee_name     object\n",
      "Time_of_Day     object\n",
      "Weekday         object\n",
      "Month_name      object\n",
      "Weekdaysort      int64\n",
      "Monthsort        int64\n",
      "Date            object\n",
      "Time            object\n",
      "dtype: object\n",
      "\n",
      " coffee df.info(): \n",
      "<class 'pandas.core.frame.DataFrame'>\n",
      "RangeIndex: 3547 entries, 0 to 3546\n",
      "Data columns (total 11 columns):\n",
      " #   Column       Non-Null Count  Dtype  \n",
      "---  ------       --------------  -----  \n",
      " 0   hour_of_day  3547 non-null   int64  \n",
      " 1   cash_type    3547 non-null   object \n",
      " 2   money        3547 non-null   float64\n",
      " 3   coffee_name  3547 non-null   object \n",
      " 4   Time_of_Day  3547 non-null   object \n",
      " 5   Weekday      3547 non-null   object \n",
      " 6   Month_name   3547 non-null   object \n",
      " 7   Weekdaysort  3547 non-null   int64  \n",
      " 8   Monthsort    3547 non-null   int64  \n",
      " 9   Date         3547 non-null   object \n",
      " 10  Time         3547 non-null   object \n",
      "dtypes: float64(1), int64(3), object(7)\n",
      "memory usage: 304.9+ KB\n"
     ]
    }
   ],
   "source": [
    "# Specify the number of rows to display\n",
    "print(coffee_df.head(10))\n",
    "\n",
    "# Inspect the shape of the DataFrame with shape attribute\n",
    "# The shape is a tuple with count of rows and columns in the DataFrame\n",
    "print(\"\\ncoffee df.shape:\")\n",
    "print(coffee_df.shape)\n",
    "\n",
    "# Inspect the data types of the columns with dtypes attribute\n",
    "# The data types are returned as a pandas Series\n",
    "print(\"\\n coffee df.dtypes:\")\n",
    "print(coffee_df.dtypes)\n",
    "\n",
    "# Inspect the data types of the columns with info() method\n",
    "print(\"\\n coffee df.info(): \")\n",
    "coffee_df.info()"
   ]
  }
 ],
 "metadata": {
  "kernelspec": {
   "display_name": ".venv",
   "language": "python",
   "name": "python3"
  },
  "language_info": {
   "codemirror_mode": {
    "name": "ipython",
    "version": 3
   },
   "file_extension": ".py",
   "mimetype": "text/x-python",
   "name": "python",
   "nbconvert_exporter": "python",
   "pygments_lexer": "ipython3",
   "version": "3.13.7"
  }
 },
 "nbformat": 4,
 "nbformat_minor": 5
}
